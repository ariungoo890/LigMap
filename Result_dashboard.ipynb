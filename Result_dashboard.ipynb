{
 "cells": [
  {
   "cell_type": "code",
   "execution_count": null,
   "id": "baf524f9",
   "metadata": {},
   "outputs": [
    {
     "ename": "SyntaxError",
     "evalue": "invalid syntax. Perhaps you forgot a comma? (3596288004.py, line 1)",
     "output_type": "error",
     "traceback": [
      "\u001b[1;36m  Cell \u001b[1;32mIn[5], line 1\u001b[1;36m\u001b[0m\n\u001b[1;33m    pip install pandas\u001b[0m\n\u001b[1;37m        ^\u001b[0m\n\u001b[1;31mSyntaxError\u001b[0m\u001b[1;31m:\u001b[0m invalid syntax. Perhaps you forgot a comma?\n"
     ]
    }
   ],
   "source": [
    "pip install pandas"
   ]
  },
  {
   "cell_type": "code",
   "execution_count": 6,
   "id": "b0d7b8c2",
   "metadata": {},
   "outputs": [
    {
     "name": "stdout",
     "output_type": "stream",
     "text": [
      "Requirement already satisfied: pandas in c:\\users\\yoga\\appdata\\local\\programs\\python\\python310\\lib\\site-packages (2.3.1)\n",
      "Collecting reportlab\n",
      "  Downloading reportlab-4.4.3-py3-none-any.whl (2.0 MB)\n",
      "Requirement already satisfied: numpy>=1.22.4 in c:\\users\\yoga\\appdata\\local\\programs\\python\\python310\\lib\\site-packages (from pandas) (2.2.6)\n",
      "Requirement already satisfied: tzdata>=2022.7 in c:\\users\\yoga\\appdata\\local\\programs\\python\\python310\\lib\\site-packages (from pandas) (2025.2)\n",
      "Requirement already satisfied: pytz>=2020.1 in c:\\users\\yoga\\appdata\\local\\programs\\python\\python310\\lib\\site-packages (from pandas) (2025.2)\n",
      "Requirement already satisfied: python-dateutil>=2.8.2 in c:\\users\\yoga\\appdata\\roaming\\python\\python310\\site-packages (from pandas) (2.9.0.post0)\n",
      "Collecting charset-normalizer\n",
      "  Downloading charset_normalizer-3.4.3-cp310-cp310-win_amd64.whl (107 kB)\n",
      "Collecting pillow>=9.0.0\n",
      "  Downloading pillow-11.3.0-cp310-cp310-win_amd64.whl (7.0 MB)\n",
      "Requirement already satisfied: six>=1.5 in c:\\users\\yoga\\appdata\\roaming\\python\\python310\\site-packages (from python-dateutil>=2.8.2->pandas) (1.17.0)\n",
      "Installing collected packages: pillow, charset-normalizer, reportlab\n",
      "Successfully installed charset-normalizer-3.4.3 pillow-11.3.0 reportlab-4.4.3\n",
      "Note: you may need to restart the kernel to use updated packages.\n"
     ]
    },
    {
     "name": "stderr",
     "output_type": "stream",
     "text": [
      "  WARNING: The script normalizer.exe is installed in 'c:\\Users\\YOGA\\AppData\\Local\\Programs\\Python\\Python310\\Scripts' which is not on PATH.\n",
      "  Consider adding this directory to PATH or, if you prefer to suppress this warning, use --no-warn-script-location.\n",
      "WARNING: You are using pip version 21.2.3; however, version 25.2 is available.\n",
      "You should consider upgrading via the 'c:\\Users\\YOGA\\AppData\\Local\\Programs\\Python\\Python310\\python.exe -m pip install --upgrade pip' command.\n"
     ]
    }
   ],
   "source": [
    "pip install pandas reportlab"
   ]
  },
  {
   "cell_type": "code",
   "execution_count": 14,
   "id": "638bb0a8",
   "metadata": {},
   "outputs": [
    {
     "name": "stdout",
     "output_type": "stream",
     "text": [
      "Note: you may need to restart the kernel to use updated packages.\n",
      "Requirement already satisfied: pandas in c:\\users\\yoga\\appdata\\local\\programs\\python\\python310\\lib\\site-packages (2.3.1)\n",
      "Requirement already satisfied: reportlab in c:\\users\\yoga\\appdata\\local\\programs\\python\\python310\\lib\\site-packages (4.4.3)\n",
      "Requirement already satisfied: pillow in c:\\users\\yoga\\appdata\\local\\programs\\python\\python310\\lib\\site-packages (11.3.0)\n",
      "Requirement already satisfied: python-dateutil>=2.8.2 in c:\\users\\yoga\\appdata\\roaming\\python\\python310\\site-packages (from pandas) (2.9.0.post0)\n",
      "Requirement already satisfied: pytz>=2020.1 in c:\\users\\yoga\\appdata\\local\\programs\\python\\python310\\lib\\site-packages (from pandas) (2025.2)\n",
      "Requirement already satisfied: tzdata>=2022.7 in c:\\users\\yoga\\appdata\\local\\programs\\python\\python310\\lib\\site-packages (from pandas) (2025.2)\n",
      "Requirement already satisfied: numpy>=1.22.4 in c:\\users\\yoga\\appdata\\local\\programs\\python\\python310\\lib\\site-packages (from pandas) (2.2.6)\n",
      "Requirement already satisfied: charset-normalizer in c:\\users\\yoga\\appdata\\local\\programs\\python\\python310\\lib\\site-packages (from reportlab) (3.4.3)\n",
      "Requirement already satisfied: six>=1.5 in c:\\users\\yoga\\appdata\\roaming\\python\\python310\\site-packages (from python-dateutil>=2.8.2->pandas) (1.17.0)\n"
     ]
    },
    {
     "name": "stderr",
     "output_type": "stream",
     "text": [
      "WARNING: You are using pip version 21.2.3; however, version 25.2 is available.\n",
      "You should consider upgrading via the 'c:\\Users\\YOGA\\AppData\\Local\\Programs\\Python\\Python310\\python.exe -m pip install --upgrade pip' command.\n"
     ]
    }
   ],
   "source": [
    "pip install pandas reportlab pillow"
   ]
  },
  {
   "cell_type": "code",
   "execution_count": 73,
   "id": "2e7710a8",
   "metadata": {},
   "outputs": [
    {
     "name": "stdout",
     "output_type": "stream",
     "text": [
      "PDF generated: C:\\Grow with google\\dashboard files\\structured_admet_report.pdf\n"
     ]
    }
   ],
   "source": [
    "import pandas as pd\n",
    "from pathlib import Path\n",
    "import os, platform, subprocess\n",
    "from reportlab.lib.pagesizes import letter\n",
    "from reportlab.platypus import (\n",
    "    SimpleDocTemplate, Paragraph, Spacer, Image, Table, TableStyle, PageBreak)\n",
    "from reportlab.lib.styles import getSampleStyleSheet, ParagraphStyle\n",
    "from reportlab.lib import colors\n",
    "from reportlab.lib.units import inch\n",
    "from reportlab.pdfbase.ttfonts import TTFont\n",
    "\n",
    "# ==== File paths ====\n",
    "csv_path = Path(r\"C:\\Grow with google\\dashboard files\\admet_output.csv\")\n",
    "image_path = Path(r\"C:\\Grow with google\\dashboard files\\chart_output.png\")\n",
    "output_pdf = csv_path.with_name(\"structured_admet_report.pdf\")\n",
    "\n",
    "# ==== Load CSV ====\n",
    "df = pd.read_csv(csv_path)\n",
    "df.columns = df.columns.str.strip()\n",
    "\n",
    "# ==== Select compound ====\n",
    "compound_data = df.iloc[0]  # First compound in the file\n",
    "\n",
    "def resolve_units(prop):\n",
    "    return {\n",
    "        \"molecular_weight\": \"Dalton\",\n",
    "        \"logp\": \"log-ratio\",\n",
    "        \"tpsa\": \"A²\",\n",
    "        \"ld50_zhu\": \"log(1/(mol/kg))\",\n",
    "        \"clearance_hepatocyte_az\": \"µL/min/10^6 cells\",\n",
    "        \"clearance_microsome_az\": \"µL/min/mg\",\n",
    "        \"half_life_obach\": \"hr\",\n",
    "        \"ppbr_az\": \"%\",\n",
    "        \"vdss_lombardo\": \"L/kg\",\n",
    "        \"solubility_aqsoldb\": \"log(mol/L)\",\n",
    "        \"lipophilicity_astrazeneca\": \"log-ratio\",\n",
    "        \"caco2_wang\": \"log(10^(-6)-cm/s)\",\n",
    "        \"hydrationfreeenergy_freesolv\": \"kcal/mol\"\n",
    "    }.get(prop.lower(), \"\")\n",
    "\n",
    "# ==== Define sections and properties ====\n",
    "sections = {\n",
    "    \"Physicochemical\": [\n",
    "        \"molecular_weight\", \"logP\", \"hydrogen_bond_acceptors\", \"hydrogen_bond_donors\", \"Lipinski\",\"QED\",\"stereo_centers\",\"tpsa\"\n",
    "    ],\n",
    "    \"Absorption\": [\n",
    "        \"Bioavailability_Ma\", \"PAMPA_NCATS\", \"Pgp_Broccatelli\", \"Caco2_Wang\",\"HydrationFreeEnergy_FreeSolv\",\"Lipophilicity_AstraZeneca\",\"Solubility_AqSolDB\"\n",
    "    ],\n",
    "    \"Distribution\": [\n",
    "        \"BBB_Martins\", \"PPBR_AZ\", \"VDss_Lombardo\"\n",
    "    ],\n",
    "    \"Metabolism\": [\n",
    "        \"CYP1A2_Veith\", \"CYP2C19_Veith\", \"CYP2C9_Substrate_CarbonMangels\", \"CYP2C9_Veith\",\"CYP2D6_Substrate_CarbonMangels\",\n",
    "        \"CYP2D6_Veith\",\"CYP3A4_Substrate_CarbonMangels\",\"CYP3A4_Veith\"\n",
    "    ],\n",
    "    \"Excretion\": [\n",
    "        \"Clearance_Hepatocyte_AZ\",\"Clearance_Microsome_AZ\",\"Half_Life_Obach\"\n",
    "    ],\n",
    "    \"Toxicity\": [\n",
    "        \"AMES\", \"QED\",\"Carcinogens_Lagunin\",\"ClinTox\",\"DILI\",\"NR-AR-LBD\",\"NR-AR\",\"NR-AhR\",\"NR-Aromatase\",\"NR-ER-LBD\",\"NR-ER\",\"NR-PPAR-gamma\",\n",
    "        \"SR-ARE\",\"SR-ATAD5\",\"SR-HSE\",\"SR-MMP\",\"SR-p53\",\"Skin_Reaction\",\"hERG\",\"LD50_Zhu\"\n",
    "    ]\n",
    "}\n",
    "\n",
    "# === Style Setup ===\n",
    "styles = getSampleStyleSheet()\n",
    "styles.add(ParagraphStyle(name=\"SectionHeader\", fontSize=11, leading=11, textColor=colors.whitesmoke, backColor=colors.purple, alignment=1, spaceAfter=3, spaceBefore=6))\n",
    "styles.add(ParagraphStyle(name=\"TableBody\", fontSize=11, leading=11))\n",
    "\n",
    "# ==== Generate section table ====\n",
    "def make_section(title, props):\n",
    "    data = [[\"Property\", \"Prediction\", \"DrugBank Percentile\", \"Units\"]]\n",
    "    for prop in props:\n",
    "        prediction = compound_data.get(prop, \"N/A\")\n",
    "        percentile_col = f\"{prop}_drugbank_approved_percentile\"\n",
    "        percentile = compound_data.get(percentile_col, \"N/A\")\n",
    "        units = resolve_units(prop)\n",
    "        data.append([prop, prediction, percentile, units])\n",
    "    colWidths = [2.5*inch, 1.5*inch, 1.5*inch, 1.5*inch]\n",
    "    table = Table(data, colWidths=colWidths, repeatRows=1)\n",
    "    table.setStyle(TableStyle([\n",
    "        ('BACKGROUND', (0, 0), (-1, 0), colors.HexColor(\"#631B9E\")),\n",
    "        ('TEXTCOLOR', (0, 0), (-1, 0), colors.whitesmoke),\n",
    "        ('ALIGN', (0, 0), (-1, -1), 'LEFT'),\n",
    "        ('INNERGRID', (0, 0), (-1, -1), 0.5, colors.grey),\n",
    "        ('FONTNAME', (0, 0), (-1, 0), 'Helvetica-Bold'),\n",
    "        ('BOX',(0,0),(-1,-1),1,colors.grey)\n",
    "    ]))\n",
    "    return Paragraph(title, getSampleStyleSheet()['Heading2']), table\n",
    "\n",
    "# ==== Build PDF ====\n",
    "doc = SimpleDocTemplate(str(output_pdf), pagesize=letter)\n",
    "styles = getSampleStyleSheet()\n",
    "elements = [\n",
    "    Paragraph(\"ADMET Properties Report\", styles['Title']),\n",
    "    Spacer(1, 6)\n",
    "]\n",
    "\n",
    "# Insert image if it exists\n",
    "if image_path.exists():\n",
    "    elements += [\n",
    "        Paragraph(\"Radar Chart Overview\", styles['Heading2']),\n",
    "        Spacer(1, 3),\n",
    "        Image(str(image_path), width=5*inch, height=5*inch),\n",
    "        Spacer(1, 6)\n",
    "    ]\n",
    "\n",
    "# Add all sections\n",
    "for section_title, properties in sections.items():\n",
    "    header, table = make_section(section_title, properties)\n",
    "    elements.extend([header, Spacer(1, 3), table, Spacer(1, 6)])\n",
    "\n",
    "# Generate PDF\n",
    "doc.build(elements)\n",
    "print(f\"PDF generated: {output_pdf}\")\n",
    "\n",
    "# ==== Automatically open PDF ====\n",
    "def open_file(filepath):\n",
    "    if platform.system() == \"Windows\":\n",
    "        os.startfile(filepath)\n",
    "    elif platform.system() == \"Darwin\":  # macOS\n",
    "        subprocess.run([\"open\", filepath])\n",
    "    else:  # Linux and others\n",
    "        subprocess.run([\"xdg-open\", filepath])\n",
    "\n",
    "open_file(str(output_pdf))\n"
   ]
  }
 ],
 "metadata": {
  "kernelspec": {
   "display_name": "Python 3",
   "language": "python",
   "name": "python3"
  },
  "language_info": {
   "codemirror_mode": {
    "name": "ipython",
    "version": 3
   },
   "file_extension": ".py",
   "mimetype": "text/x-python",
   "name": "python",
   "nbconvert_exporter": "python",
   "pygments_lexer": "ipython3",
   "version": "3.10.0"
  }
 },
 "nbformat": 4,
 "nbformat_minor": 5
}
